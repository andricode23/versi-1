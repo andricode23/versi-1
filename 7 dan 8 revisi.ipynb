{
 "cells": [
  {
   "cell_type": "code",
   "execution_count": 2,
   "metadata": {},
   "outputs": [
    {
     "ename": "UnboundLocalError",
     "evalue": "cannot access local variable 'max_days' where it is not associated with a value",
     "output_type": "error",
     "traceback": [
      "\u001b[1;31m---------------------------------------------------------------------------\u001b[0m",
      "\u001b[1;31mUnboundLocalError\u001b[0m                         Traceback (most recent call last)",
      "Cell \u001b[1;32mIn[2], line 29\u001b[0m\n\u001b[0;32m     26\u001b[0m     \u001b[39mreturn\u001b[39;00m (year \u001b[39m%\u001b[39m \u001b[39m4\u001b[39m \u001b[39m==\u001b[39m \u001b[39m0\u001b[39m \u001b[39mand\u001b[39;00m year \u001b[39m%\u001b[39m \u001b[39m100\u001b[39m \u001b[39m!=\u001b[39m \u001b[39m0\u001b[39m) \u001b[39mor\u001b[39;00m (year \u001b[39m%\u001b[39m \u001b[39m400\u001b[39m \u001b[39m==\u001b[39m \u001b[39m0\u001b[39m)\n\u001b[0;32m     28\u001b[0m \u001b[39m# kasus\u001b[39;00m\n\u001b[1;32m---> 29\u001b[0m \u001b[39massert\u001b[39;00m isValidDate(\u001b[39m2023\u001b[39;49m, \u001b[39m8\u001b[39;49m, \u001b[39m31\u001b[39;49m) \u001b[39m==\u001b[39m \u001b[39mTrue\u001b[39;00m\n\u001b[0;32m     30\u001b[0m \u001b[39massert\u001b[39;00m isValidDate(\u001b[39m2022\u001b[39m, \u001b[39m2\u001b[39m, \u001b[39m29\u001b[39m) \u001b[39m==\u001b[39m \u001b[39mFalse\u001b[39;00m  \u001b[39m# 2022 is not a leap year\u001b[39;00m\n\u001b[0;32m     31\u001b[0m \u001b[39massert\u001b[39;00m isValidDate(\u001b[39m2023\u001b[39m, \u001b[39m13\u001b[39m, \u001b[39m1\u001b[39m) \u001b[39m==\u001b[39m \u001b[39mFalse\u001b[39;00m  \u001b[39m# Invalid month\u001b[39;00m\n",
      "Cell \u001b[1;32mIn[2], line 19\u001b[0m, in \u001b[0;36misValidDate\u001b[1;34m(year, month, day)\u001b[0m\n\u001b[0;32m      3\u001b[0m max_days :{\n\u001b[0;32m      4\u001b[0m     \u001b[39m1\u001b[39m: \u001b[39m31\u001b[39m,  \u001b[39m# January\u001b[39;00m\n\u001b[0;32m      5\u001b[0m     \u001b[39m2\u001b[39m: \u001b[39m29\u001b[39m \u001b[39mif\u001b[39;00m is_leap_year(year) \u001b[39melse\u001b[39;00m \u001b[39m28\u001b[39m,  \u001b[39m# February\u001b[39;00m\n\u001b[1;32m   (...)\u001b[0m\n\u001b[0;32m     15\u001b[0m     \u001b[39m12\u001b[39m: \u001b[39m31\u001b[39m   \u001b[39m# December\u001b[39;00m\n\u001b[0;32m     16\u001b[0m }\n\u001b[0;32m     18\u001b[0m \u001b[39m# pastikan semua tanggal valid bersarkan aturan \u001b[39;00m\n\u001b[1;32m---> 19\u001b[0m \u001b[39mif\u001b[39;00m year \u001b[39m<\u001b[39m \u001b[39m1\u001b[39m \u001b[39mor\u001b[39;00m month \u001b[39m<\u001b[39m \u001b[39m1\u001b[39m \u001b[39mor\u001b[39;00m month \u001b[39m>\u001b[39m \u001b[39m12\u001b[39m \u001b[39mor\u001b[39;00m day \u001b[39m<\u001b[39m \u001b[39m1\u001b[39m \u001b[39mor\u001b[39;00m day \u001b[39m>\u001b[39m max_days[month]:\n\u001b[0;32m     20\u001b[0m     \u001b[39mreturn\u001b[39;00m \u001b[39mFalse\u001b[39;00m\n\u001b[0;32m     22\u001b[0m \u001b[39mreturn\u001b[39;00m \u001b[39mTrue\u001b[39;00m\n",
      "\u001b[1;31mUnboundLocalError\u001b[0m: cannot access local variable 'max_days' where it is not associated with a value"
     ]
    }
   ],
   "source": [
    "def isValidDate(year, month, day):\n",
    "    # Define the maximum number of days in each month\n",
    "    max_days :{\n",
    "        1: 31,  # January\n",
    "        2: 29 if is_leap_year(year) else 28,  # February\n",
    "        3: 31,  # March\n",
    "        4: 30,  # April\n",
    "        5: 31,  # May\n",
    "        6: 30,  # June\n",
    "        7: 31,  # July\n",
    "        8: 31,  # August\n",
    "        9: 30,  # September\n",
    "        10: 31,  # October\n",
    "        11: 30,  # November\n",
    "        12: 31   # December\n",
    "    }\n",
    "\n",
    "    # pastikan semua tanggal valid bersarkan aturan \n",
    "    if year < 1 or month < 1 or month > 12 or day < 1 or day > max_days[month]:\n",
    "        return False\n",
    "\n",
    "    return True\n",
    "\n",
    "def is_leap_year(year):\n",
    "    # Leap years are divisible by 4, except for years divisible by 100 but not 400\n",
    "    return (year % 4 == 0 and year % 100 != 0) or (year % 400 == 0)\n",
    "\n",
    "# kasus\n",
    "assert isValidDate(2023, 8, 31) == True\n",
    "assert isValidDate(2022, 2, 29) == False  # 2022 is not a leap year\n",
    "assert isValidDate(2023, 13, 1) == False  # Invalid month\n",
    "assert isValidDate(2023, 5, 32) == False  # Invalid day\n",
    "\n",
    "print(\"All assertions passed!\")\n"
   ]
  },
  {
   "cell_type": "code",
   "execution_count": 3,
   "metadata": {},
   "outputs": [
    {
     "name": "stdout",
     "output_type": "stream",
     "text": [
      "All assertions passed!\n"
     ]
    }
   ],
   "source": [
    "def commaFormat(number):\n",
    "    # Split the number into integer and fractional parts\n",
    "    parts = str(number).split(\".\")\n",
    "\n",
    "    # memformat dengan koma\n",
    "    integer_part = parts[0]\n",
    "    formatted_integer = \"\"\n",
    "    count = 0\n",
    "\n",
    "    for digit in reversed(integer_part):\n",
    "        if count == 3:\n",
    "            formatted_integer += \",\"\n",
    "            count = 0\n",
    "        formatted_integer += digit\n",
    "        count += 1\n",
    "\n",
    "    formatted_integer = formatted_integer[::-1]\n",
    "\n",
    "    # kombinasikan jika bisa \n",
    "    formatted_number = formatted_integer\n",
    "    if len(parts) > 1:\n",
    "        formatted_number += \".\" + parts[1]\n",
    "\n",
    "    return formatted_number\n",
    "\n",
    "# Test cases\n",
    "assert commaFormat(1234567890) == \"1,234,567,890\"\n",
    "assert commaFormat(1234.5678) == \"1,234.5678\"\n",
    "assert commaFormat(123) == \"123\"\n",
    "assert commaFormat(1234567890.12345) == \"1,234,567,890.12345\"\n",
    "\n",
    "print(\"All assertions passed!\")\n"
   ]
  }
 ],
 "metadata": {
  "kernelspec": {
   "display_name": "Python 3",
   "language": "python",
   "name": "python3"
  },
  "language_info": {
   "codemirror_mode": {
    "name": "ipython",
    "version": 3
   },
   "file_extension": ".py",
   "mimetype": "text/x-python",
   "name": "python",
   "nbconvert_exporter": "python",
   "pygments_lexer": "ipython3",
   "version": "3.11.5"
  },
  "orig_nbformat": 4
 },
 "nbformat": 4,
 "nbformat_minor": 2
}
